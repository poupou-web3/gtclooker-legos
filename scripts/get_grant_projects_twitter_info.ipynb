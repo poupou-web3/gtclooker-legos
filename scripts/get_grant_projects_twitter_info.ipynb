{
 "cells": [
  {
   "cell_type": "code",
   "execution_count": 58,
   "metadata": {},
   "outputs": [],
   "source": [
    "import os\n",
    "import pandas as pd\n",
    "os.chdir('../src/') #to avoid module load issues. TODO fix via module path\n",
    "\n",
    "from src.lib.utils.twitter import get_user_info\n",
    "\n",
    "def get_grant_prj_twitter_info(x):\n",
    "\n",
    "    twitter_account = get_user_info(x['twitter_handle_1'])\n",
    "    \n",
    "    #num_tweets, created_at, followers_count\n",
    "    return x['grant_id'], x['twitter_handle_1'], twitter_account.statuses_count, twitter_account.created_at, twitter_account.followers_count\n"
   ]
  },
  {
   "cell_type": "code",
   "execution_count": 59,
   "metadata": {},
   "outputs": [],
   "source": [
    "#LOAD GRANTS\n",
    "grant_json_path = 'gr15_grants.json'\n",
    "df_grants = pd.read_json(grant_json_path).transpose()"
   ]
  },
  {
   "cell_type": "code",
   "execution_count": 60,
   "metadata": {},
   "outputs": [],
   "source": [
    "#GET GRANT TWITTER INFO\n",
    "grant_prj_twitter_info = df_grants.head(5).apply(lambda x: get_grant_prj_twitter_info(x), axis=1)\n",
    "df_grant_prj_twitter_info = pd.DataFrame(grant_prj_twitter_info.tolist())\n",
    "df_grant_prj_twitter_info.columns = ['grant_id', 'twitter_name', 'num_tweets', 'created_at', 'followers_count']"
   ]
  },
  {
   "cell_type": "code",
   "execution_count": 61,
   "metadata": {},
   "outputs": [
    {
     "data": {
      "text/html": [
       "<div>\n",
       "<style scoped>\n",
       "    .dataframe tbody tr th:only-of-type {\n",
       "        vertical-align: middle;\n",
       "    }\n",
       "\n",
       "    .dataframe tbody tr th {\n",
       "        vertical-align: top;\n",
       "    }\n",
       "\n",
       "    .dataframe thead th {\n",
       "        text-align: right;\n",
       "    }\n",
       "</style>\n",
       "<table border=\"1\" class=\"dataframe\">\n",
       "  <thead>\n",
       "    <tr style=\"text-align: right;\">\n",
       "      <th></th>\n",
       "      <th>grant_id</th>\n",
       "      <th>twitter_name</th>\n",
       "      <th>num_tweets</th>\n",
       "      <th>created_at</th>\n",
       "      <th>followers_count</th>\n",
       "    </tr>\n",
       "  </thead>\n",
       "  <tbody>\n",
       "    <tr>\n",
       "      <th>0</th>\n",
       "      <td>8017</td>\n",
       "      <td>leanderdulac</td>\n",
       "      <td>20565</td>\n",
       "      <td>2009-08-22 19:26:36+00:00</td>\n",
       "      <td>606</td>\n",
       "    </tr>\n",
       "    <tr>\n",
       "      <th>1</th>\n",
       "      <td>7979</td>\n",
       "      <td>IkhalaImpact</td>\n",
       "      <td>15</td>\n",
       "      <td>2022-03-16 21:46:30+00:00</td>\n",
       "      <td>20</td>\n",
       "    </tr>\n",
       "    <tr>\n",
       "      <th>2</th>\n",
       "      <td>7977</td>\n",
       "      <td>DOMUNSTOPPABLE</td>\n",
       "      <td>7</td>\n",
       "      <td>2022-08-23 11:37:58+00:00</td>\n",
       "      <td>47</td>\n",
       "    </tr>\n",
       "    <tr>\n",
       "      <th>3</th>\n",
       "      <td>7976</td>\n",
       "      <td>M0niquesullivan</td>\n",
       "      <td>12280</td>\n",
       "      <td>2012-03-30 18:07:06+00:00</td>\n",
       "      <td>2021</td>\n",
       "    </tr>\n",
       "    <tr>\n",
       "      <th>4</th>\n",
       "      <td>7974</td>\n",
       "      <td>_SolDAO</td>\n",
       "      <td>2</td>\n",
       "      <td>2022-09-07 06:49:36+00:00</td>\n",
       "      <td>118</td>\n",
       "    </tr>\n",
       "  </tbody>\n",
       "</table>\n",
       "</div>"
      ],
      "text/plain": [
       "   grant_id     twitter_name  num_tweets                created_at  \\\n",
       "0      8017     leanderdulac       20565 2009-08-22 19:26:36+00:00   \n",
       "1      7979     IkhalaImpact          15 2022-03-16 21:46:30+00:00   \n",
       "2      7977   DOMUNSTOPPABLE           7 2022-08-23 11:37:58+00:00   \n",
       "3      7976  M0niquesullivan       12280 2012-03-30 18:07:06+00:00   \n",
       "4      7974          _SolDAO           2 2022-09-07 06:49:36+00:00   \n",
       "\n",
       "   followers_count  \n",
       "0              606  \n",
       "1               20  \n",
       "2               47  \n",
       "3             2021  \n",
       "4              118  "
      ]
     },
     "execution_count": 61,
     "metadata": {},
     "output_type": "execute_result"
    }
   ],
   "source": [
    "df_grant_prj_twitter_info.head()"
   ]
  }
 ],
 "metadata": {
  "kernelspec": {
   "display_name": "base",
   "language": "python",
   "name": "python3"
  },
  "language_info": {
   "codemirror_mode": {
    "name": "ipython",
    "version": 3
   },
   "file_extension": ".py",
   "mimetype": "text/x-python",
   "name": "python",
   "nbconvert_exporter": "python",
   "pygments_lexer": "ipython3",
   "version": "3.8.13"
  },
  "orig_nbformat": 4
 },
 "nbformat": 4,
 "nbformat_minor": 2
}
